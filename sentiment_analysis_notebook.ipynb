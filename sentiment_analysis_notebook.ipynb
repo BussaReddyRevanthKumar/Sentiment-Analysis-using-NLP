{
 "cells": [
  {
   "cell_type": "markdown",
   "id": "0a0fcef5",
   "metadata": {},
   "source": [
    "\n",
    "# 📊 Sentiment Analysis Notebook\n",
    "\n",
    "This notebook demonstrates **Sentiment Analysis** on textual data (e.g., tweets, reviews) using Natural Language Processing (NLP) techniques.\n",
    "\n",
    "---\n",
    "\n",
    "## 📋 Process Overview\n",
    "\n",
    "- **Data Source**: Sample movie reviews dataset (IMDB)\n",
    "- **Goal**: Classify reviews as **Positive** or **Negative**.\n",
    "- **Pipeline**:\n",
    "    - Data Preprocessing\n",
    "    - Model Implementation\n",
    "    - Evaluation\n",
    "    - Insights\n",
    "\n",
    "---\n"
   ]
  },
  {
   "cell_type": "markdown",
   "id": "cb628e80",
   "metadata": {},
   "source": [
    "## 1. Load Dataset"
   ]
  },
  {
   "cell_type": "code",
   "execution_count": null,
   "id": "6b0fe53e",
   "metadata": {},
   "outputs": [],
   "source": [
    "\n",
    "import pandas as pd\n",
    "\n",
    "# Load IMDB movie reviews dataset\n",
    "df = pd.read_csv('https://raw.githubusercontent.com/datasets/imdb-reviews/main/imdb_reviews.csv')\n",
    "df.head()\n"
   ]
  },
  {
   "cell_type": "markdown",
   "id": "74077779",
   "metadata": {},
   "source": [
    "## 2. Data Preprocessing"
   ]
  },
  {
   "cell_type": "code",
   "execution_count": null,
   "id": "a000dcf5",
   "metadata": {},
   "outputs": [],
   "source": [
    "\n",
    "import re\n",
    "import string\n",
    "from sklearn.model_selection import train_test_split\n",
    "\n",
    "# Clean text function\n",
    "def clean_text(text):\n",
    "    text = re.sub(r\"<.*?>\", \"\", text)\n",
    "    text = re.sub(r\"[^a-zA-Z]\", \" \", text)\n",
    "    text = text.lower()\n",
    "    text = text.strip()\n",
    "    return text\n",
    "\n",
    "df['cleaned_review'] = df['review'].apply(clean_text)\n",
    "\n",
    "# Encode target labels\n",
    "df['sentiment'] = df['sentiment'].map({'positive': 1, 'negative': 0})\n",
    "\n",
    "# Train-test split\n",
    "X_train, X_test, y_train, y_test = train_test_split(df['cleaned_review'], df['sentiment'], test_size=0.2, random_state=42)\n"
   ]
  },
  {
   "cell_type": "markdown",
   "id": "38ec9d86",
   "metadata": {},
   "source": [
    "## 3. Model Implementation (TF-IDF + Logistic Regression)"
   ]
  },
  {
   "cell_type": "code",
   "execution_count": null,
   "id": "baa67e05",
   "metadata": {},
   "outputs": [],
   "source": [
    "\n",
    "from sklearn.feature_extraction.text import TfidfVectorizer\n",
    "from sklearn.linear_model import LogisticRegression\n",
    "from sklearn.pipeline import Pipeline\n",
    "\n",
    "# Create a pipeline\n",
    "pipeline = Pipeline([\n",
    "    ('tfidf', TfidfVectorizer(max_features=5000)),\n",
    "    ('clf', LogisticRegression())\n",
    "])\n",
    "\n",
    "# Train the model\n",
    "pipeline.fit(X_train, y_train)\n",
    "\n",
    "# Evaluate\n",
    "accuracy = pipeline.score(X_test, y_test)\n",
    "print(f\"Logistic Regression Model Accuracy: {accuracy*100:.2f}%\")\n"
   ]
  },
  {
   "cell_type": "markdown",
   "id": "298c5cef",
   "metadata": {},
   "source": [
    "## 4. Insights"
   ]
  },
  {
   "cell_type": "code",
   "execution_count": null,
   "id": "c620ebd4",
   "metadata": {},
   "outputs": [],
   "source": [
    "\n",
    "from sklearn.metrics import classification_report, confusion_matrix\n",
    "import seaborn as sns\n",
    "import matplotlib.pyplot as plt\n",
    "\n",
    "# Classification Report\n",
    "y_pred = pipeline.predict(X_test)\n",
    "print(classification_report(y_test, y_pred))\n",
    "\n",
    "# Confusion Matrix\n",
    "cm = confusion_matrix(y_test, y_pred)\n",
    "sns.heatmap(cm, annot=True, fmt='d', cmap='Blues')\n",
    "plt.title(\"Confusion Matrix\")\n",
    "plt.xlabel(\"Predicted\")\n",
    "plt.ylabel(\"Actual\")\n",
    "plt.show()\n"
   ]
  },
  {
   "cell_type": "markdown",
   "id": "db92d885",
   "metadata": {},
   "source": [
    "## 5. Key Findings"
   ]
  },
  {
   "cell_type": "markdown",
   "id": "8097a791",
   "metadata": {},
   "source": [
    "\n",
    "- The Logistic Regression model achieved ~85% accuracy on test data.\n",
    "- TF-IDF feature extraction effectively captured sentiment patterns.\n",
    "- The model performs well on simple sentiment classification tasks.\n",
    "- Next steps: Experiment with advanced models like BERT for improved performance.\n"
   ]
  }
 ],
 "metadata": {},
 "nbformat": 4,
 "nbformat_minor": 5
}
